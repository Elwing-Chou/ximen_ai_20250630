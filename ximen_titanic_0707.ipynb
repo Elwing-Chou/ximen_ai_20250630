{
  "nbformat": 4,
  "nbformat_minor": 0,
  "metadata": {
    "colab": {
      "provenance": [],
      "mount_file_id": "1sfGj2Seljvbnftgbm_rHIGkYXSSAIviH",
      "authorship_tag": "ABX9TyMZVyXLDbDHqreKIF+lxl5g",
      "include_colab_link": true
    },
    "kernelspec": {
      "name": "python3",
      "display_name": "Python 3"
    },
    "language_info": {
      "name": "python"
    }
  },
  "cells": [
    {
      "cell_type": "markdown",
      "metadata": {
        "id": "view-in-github",
        "colab_type": "text"
      },
      "source": [
        "<a href=\"https://colab.research.google.com/github/Elwing-Chou/ximen_ai_20250630/blob/main/ximen_titanic_0707.ipynb\" target=\"_parent\"><img src=\"https://colab.research.google.com/assets/colab-badge.svg\" alt=\"Open In Colab\"/></a>"
      ]
    },
    {
      "cell_type": "code",
      "execution_count": 1,
      "metadata": {
        "colab": {
          "base_uri": "https://localhost:8080/"
        },
        "id": "L_0BwP1I1Jrh",
        "outputId": "c8065b29-4906-48d8-9f8f-c6014b38609b"
      },
      "outputs": [
        {
          "output_type": "execute_result",
          "data": {
            "text/plain": [
              "('test.csv', <http.client.HTTPMessage at 0x7a77b31a6a50>)"
            ]
          },
          "metadata": {},
          "execution_count": 1
        }
      ],
      "source": [
        "from urllib.request import urlretrieve\n",
        "url = \"https://github.com/Elwing-Chou/ximen_ai_20250630/raw/refs/heads/main/titanic/train.csv\"\n",
        "urlretrieve(url, \"train.csv\")\n",
        "\n",
        "url = \"https://github.com/Elwing-Chou/ximen_ai_20250630/raw/refs/heads/main/titanic/test.csv\"\n",
        "urlretrieve(url, \"test.csv\")"
      ]
    },
    {
      "cell_type": "code",
      "source": [
        "import pandas as pd\n",
        "train = pd.read_csv(\"train.csv\", encoding=\"utf-8\")\n",
        "test = pd.read_csv(\"test.csv\", encoding=\"utf-8\")"
      ],
      "metadata": {
        "id": "FdsDvNgm2B59"
      },
      "execution_count": 5,
      "outputs": []
    },
    {
      "cell_type": "markdown",
      "source": [
        "\n",
        "\n",
        "```\n",
        "資料預處理(x)\n",
        "\n",
        "把資料分成兩種\n",
        "1. 數值類型(連續大小):\n",
        "Age, SibSp, Parch, Ticket(#), Fare\n",
        "2. 固定類型:\n",
        "Pclass, Name, Sex, Cabin, Embarked\n",
        "\n",
        "1. 補上所有空值\n",
        "2. 固定類型做One-hot\n",
        "Extra. 想辦法做出更多欄位\n",
        "\n",
        "```\n",
        "\n"
      ],
      "metadata": {
        "id": "Ju82oRi93krN"
      }
    },
    {
      "cell_type": "code",
      "source": [
        "# 注意axis=0/1\n",
        "train_test = pd.concat([train, test], axis=0)"
      ],
      "metadata": {
        "id": "BqjUEXUh529l"
      },
      "execution_count": null,
      "outputs": []
    }
  ]
}
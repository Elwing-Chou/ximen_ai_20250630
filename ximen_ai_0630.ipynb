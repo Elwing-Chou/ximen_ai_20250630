{
  "nbformat": 4,
  "nbformat_minor": 0,
  "metadata": {
    "colab": {
      "provenance": [],
      "authorship_tag": "ABX9TyM0LMD8FMv+jf6V3eUdr23b",
      "include_colab_link": true
    },
    "kernelspec": {
      "name": "python3",
      "display_name": "Python 3"
    },
    "language_info": {
      "name": "python"
    }
  },
  "cells": [
    {
      "cell_type": "markdown",
      "metadata": {
        "id": "view-in-github",
        "colab_type": "text"
      },
      "source": [
        "<a href=\"https://colab.research.google.com/github/Elwing-Chou/ximen_ai_20250630/blob/main/ximen_ai_0630.ipynb\" target=\"_parent\"><img src=\"https://colab.research.google.com/assets/colab-badge.svg\" alt=\"Open In Colab\"/></a>"
      ]
    },
    {
      "cell_type": "code",
      "execution_count": null,
      "metadata": {
        "id": "Uf-T6KJXm7w8"
      },
      "outputs": [],
      "source": []
    },
    {
      "cell_type": "markdown",
      "source": [
        "markdown語法\n",
        "\n",
        "aaaadsfds\n",
        "\n",
        "\n",
        "```python\n",
        "# 此內容會顯示為程式碼\n",
        "print(3)\n",
        "abccfaf\n",
        "defggh\n",
        "```\n",
        "\n",
        "Latex Math\n",
        "\n",
        "$ \\frac{1}{x^2}\\pi $\n"
      ],
      "metadata": {
        "id": "rAwNu6cXr8d1"
      }
    }
  ]
}